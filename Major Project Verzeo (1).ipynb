{
 "cells": [
  {
   "cell_type": "markdown",
   "metadata": {},
   "source": [
    "# PREDICTION OF THE COSTS OF USED CARS"
   ]
  },
  {
   "cell_type": "markdown",
   "metadata": {},
   "source": [
    "  -- by the batch members of ML061B14"
   ]
  },
  {
   "cell_type": "markdown",
   "metadata": {},
   "source": [
    "## Objective:"
   ]
  },
  {
   "cell_type": "markdown",
   "metadata": {},
   "source": [
    "                   Predicting the costs of used cars provided with the data collected from various sources and distributed across various locations in India."
   ]
  },
  {
   "cell_type": "code",
   "execution_count": 75,
   "metadata": {},
   "outputs": [],
   "source": [
    "# importing the packages\n",
    "\n",
    "import numpy as np\n",
    "from numpy import nan\n",
    "import pandas as pd\n",
    "import seaborn as sns\n",
    "import matplotlib.pyplot as plt\n",
    "%matplotlib inline"
   ]
  },
  {
   "cell_type": "code",
   "execution_count": 76,
   "metadata": {},
   "outputs": [],
   "source": [
    "#Loading the dataset\n",
    "\n",
    "Car_Dataset = pd.read_excel('Data_Train.xlsx')"
   ]
  },
  {
   "cell_type": "markdown",
   "metadata": {},
   "source": [
    "# Understading the Dataset\n"
   ]
  },
  {
   "cell_type": "code",
   "execution_count": 3,
   "metadata": {},
   "outputs": [
    {
     "data": {
      "text/html": [
       "<div>\n",
       "<style scoped>\n",
       "    .dataframe tbody tr th:only-of-type {\n",
       "        vertical-align: middle;\n",
       "    }\n",
       "\n",
       "    .dataframe tbody tr th {\n",
       "        vertical-align: top;\n",
       "    }\n",
       "\n",
       "    .dataframe thead th {\n",
       "        text-align: right;\n",
       "    }\n",
       "</style>\n",
       "<table border=\"1\" class=\"dataframe\">\n",
       "  <thead>\n",
       "    <tr style=\"text-align: right;\">\n",
       "      <th></th>\n",
       "      <th>Name</th>\n",
       "      <th>Location</th>\n",
       "      <th>Year</th>\n",
       "      <th>Kilometers_Driven</th>\n",
       "      <th>Fuel_Type</th>\n",
       "      <th>Transmission</th>\n",
       "      <th>Owner_Type</th>\n",
       "      <th>Mileage</th>\n",
       "      <th>Engine</th>\n",
       "      <th>Power</th>\n",
       "      <th>Seats</th>\n",
       "      <th>Price</th>\n",
       "    </tr>\n",
       "  </thead>\n",
       "  <tbody>\n",
       "    <tr>\n",
       "      <th>0</th>\n",
       "      <td>Maruti Wagon R LXI CNG</td>\n",
       "      <td>Mumbai</td>\n",
       "      <td>2010</td>\n",
       "      <td>72000</td>\n",
       "      <td>CNG</td>\n",
       "      <td>Manual</td>\n",
       "      <td>First</td>\n",
       "      <td>26.6 km/kg</td>\n",
       "      <td>998 CC</td>\n",
       "      <td>58.16 bhp</td>\n",
       "      <td>5.0</td>\n",
       "      <td>1.75</td>\n",
       "    </tr>\n",
       "    <tr>\n",
       "      <th>1</th>\n",
       "      <td>Hyundai Creta 1.6 CRDi SX Option</td>\n",
       "      <td>Pune</td>\n",
       "      <td>2015</td>\n",
       "      <td>41000</td>\n",
       "      <td>Diesel</td>\n",
       "      <td>Manual</td>\n",
       "      <td>First</td>\n",
       "      <td>19.67 kmpl</td>\n",
       "      <td>1582 CC</td>\n",
       "      <td>126.2 bhp</td>\n",
       "      <td>5.0</td>\n",
       "      <td>12.50</td>\n",
       "    </tr>\n",
       "    <tr>\n",
       "      <th>2</th>\n",
       "      <td>Honda Jazz V</td>\n",
       "      <td>Chennai</td>\n",
       "      <td>2011</td>\n",
       "      <td>46000</td>\n",
       "      <td>Petrol</td>\n",
       "      <td>Manual</td>\n",
       "      <td>First</td>\n",
       "      <td>18.2 kmpl</td>\n",
       "      <td>1199 CC</td>\n",
       "      <td>88.7 bhp</td>\n",
       "      <td>5.0</td>\n",
       "      <td>4.50</td>\n",
       "    </tr>\n",
       "    <tr>\n",
       "      <th>3</th>\n",
       "      <td>Maruti Ertiga VDI</td>\n",
       "      <td>Chennai</td>\n",
       "      <td>2012</td>\n",
       "      <td>87000</td>\n",
       "      <td>Diesel</td>\n",
       "      <td>Manual</td>\n",
       "      <td>First</td>\n",
       "      <td>20.77 kmpl</td>\n",
       "      <td>1248 CC</td>\n",
       "      <td>88.76 bhp</td>\n",
       "      <td>7.0</td>\n",
       "      <td>6.00</td>\n",
       "    </tr>\n",
       "    <tr>\n",
       "      <th>4</th>\n",
       "      <td>Audi A4 New 2.0 TDI Multitronic</td>\n",
       "      <td>Coimbatore</td>\n",
       "      <td>2013</td>\n",
       "      <td>40670</td>\n",
       "      <td>Diesel</td>\n",
       "      <td>Automatic</td>\n",
       "      <td>Second</td>\n",
       "      <td>15.2 kmpl</td>\n",
       "      <td>1968 CC</td>\n",
       "      <td>140.8 bhp</td>\n",
       "      <td>5.0</td>\n",
       "      <td>17.74</td>\n",
       "    </tr>\n",
       "  </tbody>\n",
       "</table>\n",
       "</div>"
      ],
      "text/plain": [
       "                               Name    Location  Year  Kilometers_Driven  \\\n",
       "0            Maruti Wagon R LXI CNG      Mumbai  2010              72000   \n",
       "1  Hyundai Creta 1.6 CRDi SX Option        Pune  2015              41000   \n",
       "2                      Honda Jazz V     Chennai  2011              46000   \n",
       "3                 Maruti Ertiga VDI     Chennai  2012              87000   \n",
       "4   Audi A4 New 2.0 TDI Multitronic  Coimbatore  2013              40670   \n",
       "\n",
       "  Fuel_Type Transmission Owner_Type     Mileage   Engine      Power  Seats  \\\n",
       "0       CNG       Manual      First  26.6 km/kg   998 CC  58.16 bhp    5.0   \n",
       "1    Diesel       Manual      First  19.67 kmpl  1582 CC  126.2 bhp    5.0   \n",
       "2    Petrol       Manual      First   18.2 kmpl  1199 CC   88.7 bhp    5.0   \n",
       "3    Diesel       Manual      First  20.77 kmpl  1248 CC  88.76 bhp    7.0   \n",
       "4    Diesel    Automatic     Second   15.2 kmpl  1968 CC  140.8 bhp    5.0   \n",
       "\n",
       "   Price  \n",
       "0   1.75  \n",
       "1  12.50  \n",
       "2   4.50  \n",
       "3   6.00  \n",
       "4  17.74  "
      ]
     },
     "execution_count": 3,
     "metadata": {},
     "output_type": "execute_result"
    }
   ],
   "source": [
    "Car_Dataset.head()"
   ]
  },
  {
   "cell_type": "code",
   "execution_count": 4,
   "metadata": {},
   "outputs": [
    {
     "data": {
      "text/plain": [
       "(6019, 12)"
      ]
     },
     "execution_count": 4,
     "metadata": {},
     "output_type": "execute_result"
    }
   ],
   "source": [
    "#No of rows and columns in the dataframe\n",
    "\n",
    "Car_Dataset.shape"
   ]
  },
  {
   "cell_type": "code",
   "execution_count": 5,
   "metadata": {
    "scrolled": true
   },
   "outputs": [
    {
     "name": "stdout",
     "output_type": "stream",
     "text": [
      "<class 'pandas.core.frame.DataFrame'>\n",
      "RangeIndex: 6019 entries, 0 to 6018\n",
      "Data columns (total 12 columns):\n",
      " #   Column             Non-Null Count  Dtype  \n",
      "---  ------             --------------  -----  \n",
      " 0   Name               6019 non-null   object \n",
      " 1   Location           6019 non-null   object \n",
      " 2   Year               6019 non-null   int64  \n",
      " 3   Kilometers_Driven  6019 non-null   int64  \n",
      " 4   Fuel_Type          6019 non-null   object \n",
      " 5   Transmission       6019 non-null   object \n",
      " 6   Owner_Type         6019 non-null   object \n",
      " 7   Mileage            6017 non-null   object \n",
      " 8   Engine             5983 non-null   object \n",
      " 9   Power              5983 non-null   object \n",
      " 10  Seats              5977 non-null   float64\n",
      " 11  Price              6019 non-null   float64\n",
      "dtypes: float64(2), int64(2), object(8)\n",
      "memory usage: 376.2+ KB\n"
     ]
    }
   ],
   "source": [
    "#understanding the column names and datatypes\n",
    "\n",
    "Car_Dataset.info()"
   ]
  },
  {
   "cell_type": "markdown",
   "metadata": {},
   "source": [
    "\n",
    "From the above output, we could infer about the columns names, number of non-null values(Count) and the Datatype of the columns. We could infer that the columns \"Mileage , Engine , Power and Seats\" have NULL values as the number of non-null values is not equal to the total number of columns present in the dataframe"
   ]
  },
  {
   "cell_type": "code",
   "execution_count": 6,
   "metadata": {},
   "outputs": [
    {
     "data": {
      "text/html": [
       "<div>\n",
       "<style scoped>\n",
       "    .dataframe tbody tr th:only-of-type {\n",
       "        vertical-align: middle;\n",
       "    }\n",
       "\n",
       "    .dataframe tbody tr th {\n",
       "        vertical-align: top;\n",
       "    }\n",
       "\n",
       "    .dataframe thead th {\n",
       "        text-align: right;\n",
       "    }\n",
       "</style>\n",
       "<table border=\"1\" class=\"dataframe\">\n",
       "  <thead>\n",
       "    <tr style=\"text-align: right;\">\n",
       "      <th></th>\n",
       "      <th>Year</th>\n",
       "      <th>Kilometers_Driven</th>\n",
       "      <th>Seats</th>\n",
       "      <th>Price</th>\n",
       "    </tr>\n",
       "  </thead>\n",
       "  <tbody>\n",
       "    <tr>\n",
       "      <th>count</th>\n",
       "      <td>6019.000000</td>\n",
       "      <td>6.019000e+03</td>\n",
       "      <td>5977.000000</td>\n",
       "      <td>6019.000000</td>\n",
       "    </tr>\n",
       "    <tr>\n",
       "      <th>mean</th>\n",
       "      <td>2013.358199</td>\n",
       "      <td>5.873838e+04</td>\n",
       "      <td>5.278735</td>\n",
       "      <td>9.479468</td>\n",
       "    </tr>\n",
       "    <tr>\n",
       "      <th>std</th>\n",
       "      <td>3.269742</td>\n",
       "      <td>9.126884e+04</td>\n",
       "      <td>0.808840</td>\n",
       "      <td>11.187917</td>\n",
       "    </tr>\n",
       "    <tr>\n",
       "      <th>min</th>\n",
       "      <td>1998.000000</td>\n",
       "      <td>1.710000e+02</td>\n",
       "      <td>0.000000</td>\n",
       "      <td>0.440000</td>\n",
       "    </tr>\n",
       "    <tr>\n",
       "      <th>25%</th>\n",
       "      <td>2011.000000</td>\n",
       "      <td>3.400000e+04</td>\n",
       "      <td>5.000000</td>\n",
       "      <td>3.500000</td>\n",
       "    </tr>\n",
       "    <tr>\n",
       "      <th>50%</th>\n",
       "      <td>2014.000000</td>\n",
       "      <td>5.300000e+04</td>\n",
       "      <td>5.000000</td>\n",
       "      <td>5.640000</td>\n",
       "    </tr>\n",
       "    <tr>\n",
       "      <th>75%</th>\n",
       "      <td>2016.000000</td>\n",
       "      <td>7.300000e+04</td>\n",
       "      <td>5.000000</td>\n",
       "      <td>9.950000</td>\n",
       "    </tr>\n",
       "    <tr>\n",
       "      <th>max</th>\n",
       "      <td>2019.000000</td>\n",
       "      <td>6.500000e+06</td>\n",
       "      <td>10.000000</td>\n",
       "      <td>160.000000</td>\n",
       "    </tr>\n",
       "  </tbody>\n",
       "</table>\n",
       "</div>"
      ],
      "text/plain": [
       "              Year  Kilometers_Driven        Seats        Price\n",
       "count  6019.000000       6.019000e+03  5977.000000  6019.000000\n",
       "mean   2013.358199       5.873838e+04     5.278735     9.479468\n",
       "std       3.269742       9.126884e+04     0.808840    11.187917\n",
       "min    1998.000000       1.710000e+02     0.000000     0.440000\n",
       "25%    2011.000000       3.400000e+04     5.000000     3.500000\n",
       "50%    2014.000000       5.300000e+04     5.000000     5.640000\n",
       "75%    2016.000000       7.300000e+04     5.000000     9.950000\n",
       "max    2019.000000       6.500000e+06    10.000000   160.000000"
      ]
     },
     "execution_count": 6,
     "metadata": {},
     "output_type": "execute_result"
    }
   ],
   "source": [
    "#description of the original dataset\n",
    "\n",
    "Car_Dataset.describe()"
   ]
  },
  {
   "cell_type": "code",
   "execution_count": 7,
   "metadata": {},
   "outputs": [
    {
     "name": "stdout",
     "output_type": "stream",
     "text": [
      "Location\n",
      "['Mumbai' 'Pune' 'Chennai' 'Coimbatore' 'Hyderabad' 'Jaipur' 'Kochi'\n",
      " 'Kolkata' 'Delhi' 'Bangalore' 'Ahmedabad']\n",
      "Fuel_Type\n",
      "['CNG' 'Diesel' 'Petrol' 'LPG' 'Electric']\n",
      "Transmission\n",
      "['Manual' 'Automatic']\n",
      "Owner_Type\n",
      "['First' 'Second' 'Fourth & Above' 'Third']\n",
      "Seats\n",
      "[ 5.  7.  8.  4.  6.  2. nan 10.  9.  0.]\n"
     ]
    }
   ],
   "source": [
    "#Understading unique values in the data frame\n",
    "\n",
    "col = ['Location','Fuel_Type','Transmission','Owner_Type','Seats']\n",
    "for i in col:\n",
    "    print(i)\n",
    "    print(Car_Dataset[i].unique())"
   ]
  },
  {
   "cell_type": "markdown",
   "metadata": {},
   "source": [
    "# Data Cleansing"
   ]
  },
  {
   "cell_type": "code",
   "execution_count": 8,
   "metadata": {},
   "outputs": [
    {
     "name": "stdout",
     "output_type": "stream",
     "text": [
      "Mileage\n",
      "<class 'str'>      6017\n",
      "<class 'float'>       2\n",
      "Name: Mileage, dtype: int64\n",
      "Engine\n",
      "<class 'str'>      5983\n",
      "<class 'float'>      36\n",
      "Name: Engine, dtype: int64\n",
      "Power\n",
      "<class 'str'>      5983\n",
      "<class 'float'>      36\n",
      "Name: Power, dtype: int64\n"
     ]
    }
   ],
   "source": [
    "#an object type column can contain a mixture of multiple types as below\n",
    "\n",
    "col = ['Mileage','Engine','Power',]\n",
    "for i in col:\n",
    "    print(i)\n",
    "    print(Car_Dataset[i].apply(type).value_counts())"
   ]
  },
  {
   "cell_type": "code",
   "execution_count": 77,
   "metadata": {},
   "outputs": [],
   "source": [
    "#converting the format of Mileage\n",
    "\n",
    "Car_Dataset['Mileage'] = Car_Dataset['Mileage'].replace('kmpl','',regex = True).replace('km/kg','',regex = True)\n",
    "Car_Dataset['Mileage'] = Car_Dataset['Mileage'].astype(float)\n",
    "Car_Dataset['Mileage'] = Car_Dataset['Mileage'].replace(0.0,nan,regex = True)"
   ]
  },
  {
   "cell_type": "code",
   "execution_count": 78,
   "metadata": {},
   "outputs": [],
   "source": [
    "#converting the format of Power\n",
    "\n",
    "Car_Dataset['Power'] = Car_Dataset['Power'].replace('bhp','',regex = True).replace('null',nan,regex = True)\n",
    "Car_Dataset['Power'] = Car_Dataset['Power'].astype(float)"
   ]
  },
  {
   "cell_type": "code",
   "execution_count": 79,
   "metadata": {},
   "outputs": [],
   "source": [
    "#converting the format of Engine\n",
    "\n",
    "Car_Dataset['Engine'] =Car_Dataset['Engine'].replace('CC','',regex = True)\n",
    "Car_Dataset['Engine'] = Car_Dataset['Engine'].astype(float)"
   ]
  },
  {
   "cell_type": "code",
   "execution_count": 80,
   "metadata": {},
   "outputs": [],
   "source": [
    "\n",
    "#converting the format of seats\n",
    "\n",
    "Car_Dataset['Seats'] = Car_Dataset['Seats'].replace(0.0,nan,regex = True)\n"
   ]
  },
  {
   "cell_type": "code",
   "execution_count": 81,
   "metadata": {},
   "outputs": [
    {
     "name": "stdout",
     "output_type": "stream",
     "text": [
      "{'Mileage': 70, 'Engine': 36, 'Power': 143, 'Seats': 43, 'Fuel_Type': 0, 'Owner_Type': 0, 'Transmission': 0}\n"
     ]
    }
   ],
   "source": [
    "#No of NULL values in the columns \n",
    "\n",
    "number_Null = {}\n",
    "col = ['Mileage','Engine','Power','Seats','Fuel_Type','Owner_Type','Transmission']\n",
    "for i in col:\n",
    "    number_Null[i] = Car_Dataset[i].isnull().sum()\n",
    "print(number_Null)\n"
   ]
  },
  {
   "cell_type": "markdown",
   "metadata": {},
   "source": [
    "#### Removal of NULL Values"
   ]
  },
  {
   "cell_type": "code",
   "execution_count": 82,
   "metadata": {},
   "outputs": [
    {
     "data": {
      "text/plain": [
       "0"
      ]
     },
     "execution_count": 82,
     "metadata": {},
     "output_type": "execute_result"
    }
   ],
   "source": [
    "#Removing columns with null value\n",
    "\n",
    "Car_Dataset = Car_Dataset.dropna()\n",
    "Car_Dataset['Owner_Type'].isnull().sum()"
   ]
  },
  {
   "cell_type": "code",
   "execution_count": 83,
   "metadata": {},
   "outputs": [
    {
     "data": {
      "text/plain": [
       "(5844, 12)"
      ]
     },
     "execution_count": 83,
     "metadata": {},
     "output_type": "execute_result"
    }
   ],
   "source": [
    "#No of rows and columns after removal of null values\n",
    "\n",
    "Car_Dataset.shape\n"
   ]
  },
  {
   "cell_type": "markdown",
   "metadata": {},
   "source": [
    "#### Removal of Outliers using Interquartile Range"
   ]
  },
  {
   "cell_type": "code",
   "execution_count": 84,
   "metadata": {},
   "outputs": [
    {
     "name": "stdout",
     "output_type": "stream",
     "text": [
      "Year                     4.0000\n",
      "Kilometers_Driven    38921.2500\n",
      "Mileage                  5.8000\n",
      "Engine                 786.0000\n",
      "Power                   63.1000\n",
      "Seats                    0.0000\n",
      "Price                    6.4825\n",
      "dtype: float64\n"
     ]
    }
   ],
   "source": [
    "#finding interquertle range for the columns in the dataframe\n",
    "\n",
    "Q1 = Car_Dataset.quantile(0.25)\n",
    "Q3 = Car_Dataset.quantile(0.75)\n",
    "IQR = Q3 - Q1\n",
    "\n",
    "\n",
    "print(IQR)"
   ]
  },
  {
   "cell_type": "code",
   "execution_count": 85,
   "metadata": {},
   "outputs": [
    {
     "name": "stdout",
     "output_type": "stream",
     "text": [
      "{'Kilometers_Driven': 198, 'Mileage': 15, 'Engine': 56, 'Power': 235}\n"
     ]
    }
   ],
   "source": [
    "#identifying the outliers present\n",
    "\n",
    "Number_Outlier = {}\n",
    "col = ['Kilometers_Driven','Mileage','Engine','Power']\n",
    "for j in col:\n",
    "    ro = (Car_Dataset[j] < (Q1[j] - 1.5 * IQR[j])) | (Car_Dataset[j] > (Q3[j] + 1.5 * IQR[j])) #The rule of thumb is that anything not in the range of \n",
    "                                                                                                      #(Q1 - 1.5 IQR) and (Q3 + 1.5 IQR) is an outlier\n",
    "    coun = 0\n",
    "    for i in ro:\n",
    "        if i == True: \n",
    "            coun = coun+1\n",
    "    Number_Outlier[j] = coun\n",
    "    \n",
    "print(Number_Outlier)"
   ]
  },
  {
   "cell_type": "code",
   "execution_count": 86,
   "metadata": {},
   "outputs": [],
   "source": [
    "#Removal of identified outliers\n",
    "\n",
    "col = ['Kilometers_Driven','Mileage','Engine','Power']\n",
    "for i in col:\n",
    "    Car_Dataset  =  Car_Dataset[~((Car_Dataset[i] < (Q1[i] - 1.5 * IQR[i])) |(Car_Dataset[i] > (Q3[i] + 1.5 * IQR[i])))]\n"
   ]
  },
  {
   "cell_type": "code",
   "execution_count": 87,
   "metadata": {},
   "outputs": [
    {
     "data": {
      "text/plain": [
       "(5385, 12)"
      ]
     },
     "execution_count": 87,
     "metadata": {},
     "output_type": "execute_result"
    }
   ],
   "source": [
    "#No of rows and columns after removal of outliers\n",
    "\n",
    "Car_Dataset.shape"
   ]
  },
  {
   "cell_type": "code",
   "execution_count": 67,
   "metadata": {},
   "outputs": [
    {
     "data": {
      "text/html": [
       "<div>\n",
       "<style scoped>\n",
       "    .dataframe tbody tr th:only-of-type {\n",
       "        vertical-align: middle;\n",
       "    }\n",
       "\n",
       "    .dataframe tbody tr th {\n",
       "        vertical-align: top;\n",
       "    }\n",
       "\n",
       "    .dataframe thead th {\n",
       "        text-align: right;\n",
       "    }\n",
       "</style>\n",
       "<table border=\"1\" class=\"dataframe\">\n",
       "  <thead>\n",
       "    <tr style=\"text-align: right;\">\n",
       "      <th></th>\n",
       "      <th>Year</th>\n",
       "      <th>Kilometers_Driven</th>\n",
       "      <th>Mileage</th>\n",
       "      <th>Engine</th>\n",
       "      <th>Power</th>\n",
       "      <th>Seats</th>\n",
       "      <th>Price</th>\n",
       "    </tr>\n",
       "  </thead>\n",
       "  <tbody>\n",
       "    <tr>\n",
       "      <th>count</th>\n",
       "      <td>5385.000000</td>\n",
       "      <td>5385.000000</td>\n",
       "      <td>5385.000000</td>\n",
       "      <td>5385.000000</td>\n",
       "      <td>5385.00000</td>\n",
       "      <td>5385.000000</td>\n",
       "      <td>5385.000000</td>\n",
       "    </tr>\n",
       "    <tr>\n",
       "      <th>mean</th>\n",
       "      <td>2013.587001</td>\n",
       "      <td>53262.483751</td>\n",
       "      <td>18.656176</td>\n",
       "      <td>1540.369359</td>\n",
       "      <td>105.91372</td>\n",
       "      <td>5.259424</td>\n",
       "      <td>8.235623</td>\n",
       "    </tr>\n",
       "    <tr>\n",
       "      <th>std</th>\n",
       "      <td>3.099978</td>\n",
       "      <td>26799.707632</td>\n",
       "      <td>3.993362</td>\n",
       "      <td>484.139533</td>\n",
       "      <td>40.49745</td>\n",
       "      <td>0.748771</td>\n",
       "      <td>8.036412</td>\n",
       "    </tr>\n",
       "    <tr>\n",
       "      <th>min</th>\n",
       "      <td>1998.000000</td>\n",
       "      <td>171.000000</td>\n",
       "      <td>8.700000</td>\n",
       "      <td>624.000000</td>\n",
       "      <td>34.20000</td>\n",
       "      <td>2.000000</td>\n",
       "      <td>0.440000</td>\n",
       "    </tr>\n",
       "    <tr>\n",
       "      <th>25%</th>\n",
       "      <td>2012.000000</td>\n",
       "      <td>33000.000000</td>\n",
       "      <td>16.000000</td>\n",
       "      <td>1197.000000</td>\n",
       "      <td>74.00000</td>\n",
       "      <td>5.000000</td>\n",
       "      <td>3.500000</td>\n",
       "    </tr>\n",
       "    <tr>\n",
       "      <th>50%</th>\n",
       "      <td>2014.000000</td>\n",
       "      <td>52000.000000</td>\n",
       "      <td>18.600000</td>\n",
       "      <td>1461.000000</td>\n",
       "      <td>89.84000</td>\n",
       "      <td>5.000000</td>\n",
       "      <td>5.500000</td>\n",
       "    </tr>\n",
       "    <tr>\n",
       "      <th>75%</th>\n",
       "      <td>2016.000000</td>\n",
       "      <td>70000.000000</td>\n",
       "      <td>21.400000</td>\n",
       "      <td>1956.000000</td>\n",
       "      <td>126.32000</td>\n",
       "      <td>5.000000</td>\n",
       "      <td>9.000000</td>\n",
       "    </tr>\n",
       "    <tr>\n",
       "      <th>max</th>\n",
       "      <td>2019.000000</td>\n",
       "      <td>130790.000000</td>\n",
       "      <td>28.400000</td>\n",
       "      <td>2999.000000</td>\n",
       "      <td>231.10000</td>\n",
       "      <td>10.000000</td>\n",
       "      <td>61.250000</td>\n",
       "    </tr>\n",
       "  </tbody>\n",
       "</table>\n",
       "</div>"
      ],
      "text/plain": [
       "              Year  Kilometers_Driven      Mileage       Engine       Power  \\\n",
       "count  5385.000000        5385.000000  5385.000000  5385.000000  5385.00000   \n",
       "mean   2013.587001       53262.483751    18.656176  1540.369359   105.91372   \n",
       "std       3.099978       26799.707632     3.993362   484.139533    40.49745   \n",
       "min    1998.000000         171.000000     8.700000   624.000000    34.20000   \n",
       "25%    2012.000000       33000.000000    16.000000  1197.000000    74.00000   \n",
       "50%    2014.000000       52000.000000    18.600000  1461.000000    89.84000   \n",
       "75%    2016.000000       70000.000000    21.400000  1956.000000   126.32000   \n",
       "max    2019.000000      130790.000000    28.400000  2999.000000   231.10000   \n",
       "\n",
       "             Seats        Price  \n",
       "count  5385.000000  5385.000000  \n",
       "mean      5.259424     8.235623  \n",
       "std       0.748771     8.036412  \n",
       "min       2.000000     0.440000  \n",
       "25%       5.000000     3.500000  \n",
       "50%       5.000000     5.500000  \n",
       "75%       5.000000     9.000000  \n",
       "max      10.000000    61.250000  "
      ]
     },
     "execution_count": 67,
     "metadata": {},
     "output_type": "execute_result"
    }
   ],
   "source": [
    "#description of the dataset after Cleansing\n",
    "\n",
    "Car_Dataset.describe()"
   ]
  },
  {
   "cell_type": "markdown",
   "metadata": {},
   "source": [
    "\n",
    "# Exploratory Data Analysis"
   ]
  },
  {
   "cell_type": "code",
   "execution_count": 68,
   "metadata": {},
   "outputs": [
    {
     "data": {
      "text/plain": [
       "<AxesSubplot:>"
      ]
     },
     "execution_count": 68,
     "metadata": {},
     "output_type": "execute_result"
    },
    {
     "data": {
      "image/png": "[encoded data removed]",
      "text/plain": [
       "<Figure size 720x396 with 2 Axes>"
      ]
     },
     "metadata": {
      "needs_background": "light"
     },
     "output_type": "display_data"
    }
   ],
   "source": [
    "#correlation between the columns is described using a heat map\n",
    "\n",
    "correlation = Car_Dataset.corr()\n",
    "plt.figure(figsize = (10,5.5))\n",
    "sns.heatmap(data = correlation,annot = True)\n"
   ]
  },
  {
   "cell_type": "markdown",
   "metadata": {},
   "source": [
    "From the above heatmap, we could infer that \"Engine\",\"Year\" and \"Power\" has a positive correlation with Price of the car. \"Mileage\" and \"Kilometers_Driven\" has a negative correlation with the price of the car\n"
   ]
  },
  {
   "cell_type": "code",
   "execution_count": 69,
   "metadata": {},
   "outputs": [
    {
     "data": {
      "text/plain": [
       "Text(0.5, 0, 'Price')"
      ]
     },
     "execution_count": 69,
     "metadata": {},
     "output_type": "execute_result"
    },
    {
     "data": {
      "image/png": "[encoded data removed]",
      "text/plain": [
       "<Figure size 576x360 with 1 Axes>"
      ]
     },
     "metadata": {
      "needs_background": "light"
     },
     "output_type": "display_data"
    }
   ],
   "source": [
    "#frequency of prices\n",
    "\n",
    "plt.figure(figsize = (8,5))\n",
    "plt.hist(Car_Dataset['Price'],bins = 12,color = '#D71985')\n",
    "plt.ylabel('Frequency')\n",
    "plt.xlabel('Price')"
   ]
  },
  {
   "cell_type": "markdown",
   "metadata": {},
   "source": [
    "The histogram is left skewed and it is clear from the above plot that more than 75% of the used cars have a price amount less than 10Lakhs (ie) (65% have the price amount in the range of 0Lakhs to 5Lakhs and 35% have the price amount in the range of 5Lakhs to 10Lakhs) "
   ]
  },
  {
   "cell_type": "code",
   "execution_count": 70,
   "metadata": {},
   "outputs": [
    {
     "data": {
      "text/plain": [
       "<AxesSubplot:xlabel='Year', ylabel='count'>"
      ]
     },
     "execution_count": 70,
     "metadata": {},
     "output_type": "execute_result"
    },
    {
     "data": {
      "image/png": "[encoded data removed]",
      "text/plain": [
       "<Figure size 864x1296 with 4 Axes>"
      ]
     },
     "metadata": {
      "needs_background": "light"
     },
     "output_type": "display_data"
    },
    {
     "data": {
      "image/png": "[encoded data removed]",
      "text/plain": [
       "<Figure size 1800x1296 with 2 Axes>"
      ]
     },
     "metadata": {
      "needs_background": "light"
     },
     "output_type": "display_data"
    }
   ],
   "source": [
    "#No of cars in each Category\n",
    "\n",
    "plt.figure(figsize=(12,18))\n",
    "plt.subplot(421)\n",
    "sns.countplot(x = 'Owner_Type',data = Car_Dataset)\n",
    "plt.subplot(422)\n",
    "sns.countplot(x = 'Fuel_Type',data = Car_Dataset)\n",
    "plt.subplot(423)\n",
    "sns.countplot(x = 'Transmission',data = Car_Dataset)\n",
    "plt.subplot(424)\n",
    "sns.countplot(x = 'Seats',data = Car_Dataset)\n",
    "plt.figure(figsize = (25,18))\n",
    "plt.subplot(425)\n",
    "sns.countplot(x = 'Location',data = Car_Dataset)\n",
    "plt.subplot(427)\n",
    "sns.countplot(x = 'Year',data = Car_Dataset)\n"
   ]
  },
  {
   "cell_type": "markdown",
   "metadata": {},
   "source": [
    "From the above plots,\n",
    "1. Most(75%) of the used cars are of owner type as FirstHand and very small portion of the cars are with owner type fourth or      above.\n",
    "2. Approximate equal proprtion of used cars are with the fule type of diesel and petrol.A very small proportion of aproximately    4% to 5% cars of fuel type with LPG or CNG.\n",
    "3. 70% of the cars are manual and 30% are automatic.\n",
    "4. Majority(nearly 80%) of the cars are 5 seaters.\n",
    "5. Approximately equal proportion of cars are present in all locations.\n",
    "6. The countplot is slightly right skewed when year in kept in account with majority if used cars within the period of 2011 to    2017."
   ]
  },
  {
   "cell_type": "code",
   "execution_count": 24,
   "metadata": {},
   "outputs": [
    {
     "data": {
      "text/plain": [
       "<seaborn.axisgrid.JointGrid at 0xb3f7990>"
      ]
     },
     "execution_count": 24,
     "metadata": {},
     "output_type": "execute_result"
    },
    {
     "data": {
      "image/png": "[encoded data removed]",
      "text/plain": [
       "<Figure size 432x432 with 3 Axes>"
      ]
     },
     "metadata": {
      "needs_background": "light"
     },
     "output_type": "display_data"
    }
   ],
   "source": [
    "#Price VS Engine\n",
    "\n",
    "sns.jointplot(x = Car_Dataset['Engine'],y = Car_Dataset['Price'] , kind = 'reg',color = '#696969')"
   ]
  },
  {
   "cell_type": "markdown",
   "metadata": {},
   "source": [
    "From the scatter plot, we could infer that there is positive correlation between Engine Capacity and Price and when the capacity is nearly 2000, the price has its highest value. From the Histogram, we could infer that most of the cars have an engine capacity in the range of 1000CC to 1500CC. "
   ]
  },
  {
   "cell_type": "code",
   "execution_count": 25,
   "metadata": {},
   "outputs": [
    {
     "data": {
      "text/plain": [
       "<seaborn.axisgrid.JointGrid at 0xb3cb410>"
      ]
     },
     "execution_count": 25,
     "metadata": {},
     "output_type": "execute_result"
    },
    {
     "data": {
      "image/png": "[encoded data removed]",
      "text/plain": [
       "<Figure size 432x432 with 3 Axes>"
      ]
     },
     "metadata": {
      "needs_background": "light"
     },
     "output_type": "display_data"
    }
   ],
   "source": [
    "#Power VS Price\n",
    "\n",
    "sns.jointplot(x = Car_Dataset['Power'],y = Car_Dataset['Price'] , kind = 'reg',color = '#696969')"
   ]
  },
  {
   "cell_type": "markdown",
   "metadata": {},
   "source": [
    "From the scatter plot, we could infer that there is a positive correlation between Power of the engine and Price and when the power is 150bhp and higher, the price reaches its highest value. From the histogram, most of the cars in the dataset have an engine power between 50bhp to 100bhp."
   ]
  },
  {
   "cell_type": "code",
   "execution_count": 26,
   "metadata": {},
   "outputs": [
    {
     "data": {
      "text/plain": [
       "<seaborn.axisgrid.JointGrid at 0xde81dd0>"
      ]
     },
     "execution_count": 26,
     "metadata": {},
     "output_type": "execute_result"
    },
    {
     "data": {
      "image/png": "[encoded data removed]",
      "text/plain": [
       "<Figure size 432x432 with 3 Axes>"
      ]
     },
     "metadata": {
      "needs_background": "light"
     },
     "output_type": "display_data"
    }
   ],
   "source": [
    "#Mileage VS Price\n",
    "\n",
    "sns.jointplot(x = Car_Dataset['Mileage'],y = Car_Dataset['Price'] , kind = 'reg',color = '#696969')"
   ]
  },
  {
   "cell_type": "markdown",
   "metadata": {},
   "source": [
    "From the scatter plot, we infer that there is a negative correlation between Mileage and Price. From the histogram, most of the cars are with the mileage between 15kmpl and 20kmpl."
   ]
  },
  {
   "cell_type": "code",
   "execution_count": 27,
   "metadata": {},
   "outputs": [
    {
     "data": {
      "text/plain": [
       "<seaborn.axisgrid.JointGrid at 0xb3f7570>"
      ]
     },
     "execution_count": 27,
     "metadata": {},
     "output_type": "execute_result"
    },
    {
     "data": {
      "image/png": "[encoded data removed]",
      "text/plain": [
       "<Figure size 432x432 with 3 Axes>"
      ]
     },
     "metadata": {
      "needs_background": "light"
     },
     "output_type": "display_data"
    }
   ],
   "source": [
    "#Kilometers_Driven VS Price\n",
    "\n",
    "sns.jointplot(x = Car_Dataset['Kilometers_Driven'],y = Car_Dataset['Price'] , kind = 'reg',color = '#696969')"
   ]
  },
  {
   "cell_type": "markdown",
   "metadata": {},
   "source": [
    "From the scatter plot, there is negative correlation between Kilometers Driven and Price. From the histogram, most of the cars are with the Kilometers Driven in a range of 20000km to 80000km."
   ]
  },
  {
   "cell_type": "code",
   "execution_count": 28,
   "metadata": {},
   "outputs": [
    {
     "data": {
      "text/plain": [
       "<AxesSubplot:xlabel='Seats', ylabel='Price'>"
      ]
     },
     "execution_count": 28,
     "metadata": {},
     "output_type": "execute_result"
    },
    {
     "data": {
      "image/png": "[encoded data removed]",
      "text/plain": [
       "<Figure size 1080x1008 with 4 Axes>"
      ]
     },
     "metadata": {
      "needs_background": "light"
     },
     "output_type": "display_data"
    }
   ],
   "source": [
    "#Categorical Variables VS Price\n",
    "\n",
    "plt.figure(figsize = (15,14))\n",
    "plt.subplot(321)\n",
    "sns.barplot(x = \"Owner_Type\",y = \"Price\", data = Car_Dataset)\n",
    "plt.subplot(322)\n",
    "sns.barplot(x = \"Transmission\",y = \"Price\", data = Car_Dataset)\n",
    "plt.subplot(323)\n",
    "sns.barplot(x = \"Fuel_Type\",y = \"Price\", data = Car_Dataset)\n",
    "plt.subplot(324)\n",
    "sns.barplot(x = \"Seats\",y = \"Price\", data = Car_Dataset)"
   ]
  },
  {
   "cell_type": "markdown",
   "metadata": {},
   "source": [
    "From the above plots,\n",
    "1. The mean value of prices with Owner Type as First is higher when compared to others. The mean price is almost equal when the Owner type is Third and above.\n",
    "2. The mean price for cars which are Manual is within a range of 4Lakhs to 6Lakhs. On the otherhand for those which are Automatic it is approximately 16Lakhs.\n",
    "3. Taking into account the fuel type, the cars which run on diesel has the highest mean value for price followed by petrol,CNG and LPG\n",
    "4. Two seater cars have the highest mean price. Others have almost equal mean price value."
   ]
  },
  {
   "cell_type": "code",
   "execution_count": 29,
   "metadata": {},
   "outputs": [
    {
     "data": {
      "text/plain": [
       "<AxesSubplot:xlabel='Brand', ylabel='Price'>"
      ]
     },
     "execution_count": 29,
     "metadata": {},
     "output_type": "execute_result"
    },
    {
     "data": {
      "image/png": "[encoded data removed]",
      "text/plain": [
       "<Figure size 2376x864 with 1 Axes>"
      ]
     },
     "metadata": {
      "needs_background": "light"
     },
     "output_type": "display_data"
    }
   ],
   "source": [
    "#Creating a new column which indicates the brand of the car and visualizing Brand Vs Price\n",
    "\n",
    "Car_Dataset['Name'] = Car_Dataset['Name'].replace('ISUZU','Isuzu',regex = True).replace('Land Rover','Land-Rover',regex = True).replace('Mini','Mini-Cooper',regex = True)\n",
    "Car_Dataset['Brand'] = Car_Dataset['Name'].str.split().str[0].str.strip()\n",
    "plt.figure(figsize = (33,12))\n",
    "sns.barplot(x = \"Brand\",y = \"Price\", data = Car_Dataset)"
   ]
  },
  {
   "cell_type": "markdown",
   "metadata": {},
   "source": [
    "When the brand of the cars is taken into account, the mean price for Land-Rover and Jaguar is approximately equal and are the highest followed by Mini-Cooper and Mercedes-benz. The mean price for Ambassader is the lowest."
   ]
  },
  {
   "cell_type": "markdown",
   "metadata": {},
   "source": [
    "# Handling Categorical Variables using Label Encoding"
   ]
  },
  {
   "cell_type": "code",
   "execution_count": 30,
   "metadata": {},
   "outputs": [],
   "source": [
    "#import LabelEncoder\n",
    "\n",
    "from sklearn.preprocessing import LabelEncoder"
   ]
  },
  {
   "cell_type": "code",
   "execution_count": 31,
   "metadata": {},
   "outputs": [],
   "source": [
    "#LabelEncoder for encoding categorical variable \"Owner_Type\"\n",
    "\n",
    "encoder = LabelEncoder()\n",
    "lst = ['First','Second','Third','Fourth & Above']\n",
    "encoder.fit(lst)\n",
    "Car_Dataset['Owner_Type'] = encoder.transform(Car_Dataset['Owner_Type'])    "
   ]
  },
  {
   "cell_type": "markdown",
   "metadata": {},
   "source": [
    "The Encoder has encoded the following values for the categorical varible \"Owner_Type\"                                           \n",
    "      (i)  \"First\" as 0                                                            \n",
    "      (ii) \"Second\" as 2                                       \n",
    "      (iii)\"Third\" as 3                                  \n",
    "      (iv) \"Fourth & Above\" as 1                                "
   ]
  },
  {
   "cell_type": "code",
   "execution_count": 32,
   "metadata": {},
   "outputs": [],
   "source": [
    "#LabelEncoder for encoding categorical     variable \"Fuel_Type\"\n",
    "\n",
    "encoder = LabelEncoder()\n",
    "lst = ['CNG','LPG','Diesel','Petrol']\n",
    "encoder.fit(lst)\n",
    "Car_Dataset['Fuel_Type'] = encoder.transform(Car_Dataset['Fuel_Type'])"
   ]
  },
  {
   "cell_type": "markdown",
   "metadata": {},
   "source": [
    "The Encoder has encoded the following values for the categorical varible \"Fuel_Type\"                          \n",
    "(i) \"CNG\" as 0                                                \n",
    "(ii) \"Diesel\" as 1                             \n",
    "(iii)\"LPG\" as 2                                          \n",
    "(iv) \"Petrol\" as 3                            "
   ]
  },
  {
   "cell_type": "code",
   "execution_count": 33,
   "metadata": {},
   "outputs": [],
   "source": [
    "#LabelEncoder for encoding categorical variable \"Transmission\"\n",
    "\n",
    "encoder = LabelEncoder()\n",
    "lst = ['Automatic','Manual']\n",
    "encoder.fit(lst)\n",
    "Car_Dataset['Transmission'] = encoder.transform(Car_Dataset['Transmission'])    "
   ]
  },
  {
   "cell_type": "markdown",
   "metadata": {},
   "source": [
    "The Encoder has encoded the following values for  the categorical variable \"Transmission\"                            \n",
    "(i) \"Automatic\" as 0                                  \n",
    "(ii) \"Manual\" as 1"
   ]
  },
  {
   "cell_type": "markdown",
   "metadata": {},
   "source": [
    "# Data Scaling "
   ]
  },
  {
   "cell_type": "code",
   "execution_count": 34,
   "metadata": {},
   "outputs": [],
   "source": [
    "#import MinMaxScaler\n",
    "\n",
    "from sklearn.preprocessing import MinMaxScaler"
   ]
  },
  {
   "cell_type": "code",
   "execution_count": 91,
   "metadata": {},
   "outputs": [
    {
     "name": "stdout",
     "output_type": "stream",
     "text": [
      "[[0.32023672]]\n"
     ]
    },
    {
     "name": "stderr",
     "output_type": "stream",
     "text": [
      "c:\\users\\roshini\\appdata\\local\\programs\\python\\python37-32\\lib\\site-packages\\sklearn\\utils\\validation.py:595: DataConversionWarning: Data with input dtype int64 was converted to float64 by MinMaxScaler.\n",
      "  warnings.warn(msg, DataConversionWarning)\n"
     ]
    }
   ],
   "source": [
    "#Scaling for Kilometers_Driven\n",
    "\n",
    "scaler = MinMaxScaler()\n",
    "km_driven = Car_Dataset['Kilometers_Driven']\n",
    "km_driven = np.array(km_driven)\n",
    "km_driven = km_driven.reshape(-1,1)\n",
    "Scaled_Value = scaler.fit_transform(km_driven)\n",
    "sca = np.array(42000)\n",
    "sca = sca.reshape(-1,1)\n",
    "scaled = scaler.transform(sca)\n",
    "Car_Dataset['Kilometers_Driven'] = Scaled_Value\n",
    "print(scaled)"
   ]
  },
  {
   "cell_type": "markdown",
   "metadata": {},
   "source": [
    "\n",
    "### Visualizing the Dataset"
   ]
  },
  {
   "cell_type": "code",
   "execution_count": 36,
   "metadata": {},
   "outputs": [
    {
     "name": "stdout",
     "output_type": "stream",
     "text": [
      "No of rows in the Dataset\n",
      "5385\n",
      "No of columns in the Dataset\n",
      "13\n"
     ]
    },
    {
     "data": {
      "text/html": [
       "<div>\n",
       "<style scoped>\n",
       "    .dataframe tbody tr th:only-of-type {\n",
       "        vertical-align: middle;\n",
       "    }\n",
       "\n",
       "    .dataframe tbody tr th {\n",
       "        vertical-align: top;\n",
       "    }\n",
       "\n",
       "    .dataframe thead th {\n",
       "        text-align: right;\n",
       "    }\n",
       "</style>\n",
       "<table border=\"1\" class=\"dataframe\">\n",
       "  <thead>\n",
       "    <tr style=\"text-align: right;\">\n",
       "      <th></th>\n",
       "      <th>Name</th>\n",
       "      <th>Location</th>\n",
       "      <th>Year</th>\n",
       "      <th>Kilometers_Driven</th>\n",
       "      <th>Fuel_Type</th>\n",
       "      <th>Transmission</th>\n",
       "      <th>Owner_Type</th>\n",
       "      <th>Mileage</th>\n",
       "      <th>Engine</th>\n",
       "      <th>Power</th>\n",
       "      <th>Seats</th>\n",
       "      <th>Price</th>\n",
       "      <th>Brand</th>\n",
       "    </tr>\n",
       "  </thead>\n",
       "  <tbody>\n",
       "    <tr>\n",
       "      <th>0</th>\n",
       "      <td>Maruti Wagon R LXI CNG</td>\n",
       "      <td>Mumbai</td>\n",
       "      <td>2010</td>\n",
       "      <td>0.549912</td>\n",
       "      <td>0</td>\n",
       "      <td>1</td>\n",
       "      <td>0</td>\n",
       "      <td>26.60</td>\n",
       "      <td>998.0</td>\n",
       "      <td>58.16</td>\n",
       "      <td>5.0</td>\n",
       "      <td>1.75</td>\n",
       "      <td>Maruti</td>\n",
       "    </tr>\n",
       "    <tr>\n",
       "      <th>1</th>\n",
       "      <td>Hyundai Creta 1.6 CRDi SX Option</td>\n",
       "      <td>Pune</td>\n",
       "      <td>2015</td>\n",
       "      <td>0.312581</td>\n",
       "      <td>1</td>\n",
       "      <td>1</td>\n",
       "      <td>0</td>\n",
       "      <td>19.67</td>\n",
       "      <td>1582.0</td>\n",
       "      <td>126.20</td>\n",
       "      <td>5.0</td>\n",
       "      <td>12.50</td>\n",
       "      <td>Hyundai</td>\n",
       "    </tr>\n",
       "    <tr>\n",
       "      <th>2</th>\n",
       "      <td>Honda Jazz V</td>\n",
       "      <td>Chennai</td>\n",
       "      <td>2011</td>\n",
       "      <td>0.350860</td>\n",
       "      <td>3</td>\n",
       "      <td>1</td>\n",
       "      <td>0</td>\n",
       "      <td>18.20</td>\n",
       "      <td>1199.0</td>\n",
       "      <td>88.70</td>\n",
       "      <td>5.0</td>\n",
       "      <td>4.50</td>\n",
       "      <td>Honda</td>\n",
       "    </tr>\n",
       "    <tr>\n",
       "      <th>3</th>\n",
       "      <td>Maruti Ertiga VDI</td>\n",
       "      <td>Chennai</td>\n",
       "      <td>2012</td>\n",
       "      <td>0.664750</td>\n",
       "      <td>1</td>\n",
       "      <td>1</td>\n",
       "      <td>0</td>\n",
       "      <td>20.77</td>\n",
       "      <td>1248.0</td>\n",
       "      <td>88.76</td>\n",
       "      <td>7.0</td>\n",
       "      <td>6.00</td>\n",
       "      <td>Maruti</td>\n",
       "    </tr>\n",
       "    <tr>\n",
       "      <th>4</th>\n",
       "      <td>Audi A4 New 2.0 TDI Multitronic</td>\n",
       "      <td>Coimbatore</td>\n",
       "      <td>2013</td>\n",
       "      <td>0.310054</td>\n",
       "      <td>1</td>\n",
       "      <td>0</td>\n",
       "      <td>2</td>\n",
       "      <td>15.20</td>\n",
       "      <td>1968.0</td>\n",
       "      <td>140.80</td>\n",
       "      <td>5.0</td>\n",
       "      <td>17.74</td>\n",
       "      <td>Audi</td>\n",
       "    </tr>\n",
       "    <tr>\n",
       "      <th>5</th>\n",
       "      <td>Hyundai EON LPG Era Plus Option</td>\n",
       "      <td>Hyderabad</td>\n",
       "      <td>2012</td>\n",
       "      <td>0.572880</td>\n",
       "      <td>2</td>\n",
       "      <td>1</td>\n",
       "      <td>0</td>\n",
       "      <td>21.10</td>\n",
       "      <td>814.0</td>\n",
       "      <td>55.20</td>\n",
       "      <td>5.0</td>\n",
       "      <td>2.35</td>\n",
       "      <td>Hyundai</td>\n",
       "    </tr>\n",
       "    <tr>\n",
       "      <th>6</th>\n",
       "      <td>Nissan Micra Diesel XV</td>\n",
       "      <td>Jaipur</td>\n",
       "      <td>2013</td>\n",
       "      <td>0.664742</td>\n",
       "      <td>1</td>\n",
       "      <td>1</td>\n",
       "      <td>0</td>\n",
       "      <td>23.08</td>\n",
       "      <td>1461.0</td>\n",
       "      <td>63.10</td>\n",
       "      <td>5.0</td>\n",
       "      <td>3.50</td>\n",
       "      <td>Nissan</td>\n",
       "    </tr>\n",
       "    <tr>\n",
       "      <th>7</th>\n",
       "      <td>Toyota Innova Crysta 2.8 GX AT 8S</td>\n",
       "      <td>Mumbai</td>\n",
       "      <td>2016</td>\n",
       "      <td>0.274302</td>\n",
       "      <td>1</td>\n",
       "      <td>0</td>\n",
       "      <td>0</td>\n",
       "      <td>11.36</td>\n",
       "      <td>2755.0</td>\n",
       "      <td>171.50</td>\n",
       "      <td>8.0</td>\n",
       "      <td>17.50</td>\n",
       "      <td>Toyota</td>\n",
       "    </tr>\n",
       "    <tr>\n",
       "      <th>8</th>\n",
       "      <td>Volkswagen Vento Diesel Comfortline</td>\n",
       "      <td>Pune</td>\n",
       "      <td>2013</td>\n",
       "      <td>0.491958</td>\n",
       "      <td>1</td>\n",
       "      <td>1</td>\n",
       "      <td>0</td>\n",
       "      <td>20.54</td>\n",
       "      <td>1598.0</td>\n",
       "      <td>103.60</td>\n",
       "      <td>5.0</td>\n",
       "      <td>5.20</td>\n",
       "      <td>Volkswagen</td>\n",
       "    </tr>\n",
       "    <tr>\n",
       "      <th>9</th>\n",
       "      <td>Tata Indica Vista Quadrajet LS</td>\n",
       "      <td>Chennai</td>\n",
       "      <td>2012</td>\n",
       "      <td>0.503457</td>\n",
       "      <td>1</td>\n",
       "      <td>1</td>\n",
       "      <td>2</td>\n",
       "      <td>22.30</td>\n",
       "      <td>1248.0</td>\n",
       "      <td>74.00</td>\n",
       "      <td>5.0</td>\n",
       "      <td>1.95</td>\n",
       "      <td>Tata</td>\n",
       "    </tr>\n",
       "  </tbody>\n",
       "</table>\n",
       "</div>"
      ],
      "text/plain": [
       "                                  Name    Location  Year  Kilometers_Driven  \\\n",
       "0               Maruti Wagon R LXI CNG      Mumbai  2010           0.549912   \n",
       "1     Hyundai Creta 1.6 CRDi SX Option        Pune  2015           0.312581   \n",
       "2                         Honda Jazz V     Chennai  2011           0.350860   \n",
       "3                    Maruti Ertiga VDI     Chennai  2012           0.664750   \n",
       "4      Audi A4 New 2.0 TDI Multitronic  Coimbatore  2013           0.310054   \n",
       "5      Hyundai EON LPG Era Plus Option   Hyderabad  2012           0.572880   \n",
       "6               Nissan Micra Diesel XV      Jaipur  2013           0.664742   \n",
       "7    Toyota Innova Crysta 2.8 GX AT 8S      Mumbai  2016           0.274302   \n",
       "8  Volkswagen Vento Diesel Comfortline        Pune  2013           0.491958   \n",
       "9       Tata Indica Vista Quadrajet LS     Chennai  2012           0.503457   \n",
       "\n",
       "   Fuel_Type  Transmission  Owner_Type  Mileage  Engine   Power  Seats  Price  \\\n",
       "0          0             1           0    26.60   998.0   58.16    5.0   1.75   \n",
       "1          1             1           0    19.67  1582.0  126.20    5.0  12.50   \n",
       "2          3             1           0    18.20  1199.0   88.70    5.0   4.50   \n",
       "3          1             1           0    20.77  1248.0   88.76    7.0   6.00   \n",
       "4          1             0           2    15.20  1968.0  140.80    5.0  17.74   \n",
       "5          2             1           0    21.10   814.0   55.20    5.0   2.35   \n",
       "6          1             1           0    23.08  1461.0   63.10    5.0   3.50   \n",
       "7          1             0           0    11.36  2755.0  171.50    8.0  17.50   \n",
       "8          1             1           0    20.54  1598.0  103.60    5.0   5.20   \n",
       "9          1             1           2    22.30  1248.0   74.00    5.0   1.95   \n",
       "\n",
       "        Brand  \n",
       "0      Maruti  \n",
       "1     Hyundai  \n",
       "2       Honda  \n",
       "3      Maruti  \n",
       "4        Audi  \n",
       "5     Hyundai  \n",
       "6      Nissan  \n",
       "7      Toyota  \n",
       "8  Volkswagen  \n",
       "9        Tata  "
      ]
     },
     "execution_count": 36,
     "metadata": {},
     "output_type": "execute_result"
    }
   ],
   "source": [
    "#the dataset after Data Clensing, Data Scaling, Encoding \n",
    "\n",
    "shape = Car_Dataset.shape\n",
    "print('No of rows in the Dataset')\n",
    "print(shape[0])\n",
    "print('No of columns in the Dataset')\n",
    "print(shape[1])\n",
    "Car_Dataset.head(10)"
   ]
  },
  {
   "cell_type": "markdown",
   "metadata": {},
   "source": [
    "# Train Test Split"
   ]
  },
  {
   "cell_type": "code",
   "execution_count": 37,
   "metadata": {},
   "outputs": [],
   "source": [
    "# importing the test_train_split\n",
    "\n",
    "from sklearn.model_selection import train_test_split"
   ]
  },
  {
   "cell_type": "code",
   "execution_count": 38,
   "metadata": {},
   "outputs": [
    {
     "name": "stdout",
     "output_type": "stream",
     "text": [
      "Features considered for training the model :\n",
      "['Year' 'Kilometers_Driven' 'Fuel_Type' 'Transmission' 'Owner_Type'\n",
      " 'Mileage' 'Engine' 'Power' 'Seats']\n",
      "The label to be predicted : Price \n"
     ]
    }
   ],
   "source": [
    "#droping the columns that aren't required to train the data\n",
    "\n",
    "col = ['Name','Location','Price','Brand']        #columns to be dropped\n",
    "X = Car_Dataset.drop(col,axis = 1)               #storing the features from Car_Dataset to a new Dataframe\n",
    "y = Car_Dataset.loc[:,'Price']                   #storing the label 'Price' into a new Dataframe\n",
    "print('Features considered for training the model :')\n",
    "print(X.columns.values)\n",
    "print('The label to be predicted : Price ')"
   ]
  },
  {
   "cell_type": "code",
   "execution_count": 39,
   "metadata": {},
   "outputs": [
    {
     "name": "stdout",
     "output_type": "stream",
     "text": [
      "Shape of the Dataframes used to train the model\n",
      "X_train :(4038, 9) y_train :(4038,)\n",
      "Shape of the Dataframes used to test the trained model\n",
      "X_test :(1347, 9) y_test :(1347,)\n"
     ]
    }
   ],
   "source": [
    "#spliting the data set into train set and test set\n",
    "\n",
    "X_train,X_test,y_train,y_test = train_test_split(X,y,random_state = 0) #performing the train test split \n",
    "print('Shape of the Dataframes used to train the model')\n",
    "print('X_train :{0} y_train :{1}'.format(X_train.shape,y_train.shape))\n",
    "print('Shape of the Dataframes used to test the trained model')\n",
    "print('X_test :{0} y_test :{1}'.format(X_test.shape,y_test.shape))"
   ]
  },
  {
   "cell_type": "markdown",
   "metadata": {},
   "source": [
    "# Machine Learning Algorithms"
   ]
  },
  {
   "cell_type": "markdown",
   "metadata": {},
   "source": [
    "#### K-NEAREST NEIGHBOUR REGRESSOR"
   ]
  },
  {
   "cell_type": "code",
   "execution_count": 40,
   "metadata": {},
   "outputs": [],
   "source": [
    "#importing KNeighborsRegressor\n",
    "\n",
    "from sklearn.neighbors import KNeighborsRegressor\n",
    "from sklearn.metrics import r2_score"
   ]
  },
  {
   "cell_type": "code",
   "execution_count": 41,
   "metadata": {},
   "outputs": [
    {
     "name": "stdout",
     "output_type": "stream",
     "text": [
      "Train Score : 0.9215994014007165 \n",
      "Test Score(r2 value) : 0.8691696746458393\n"
     ]
    }
   ],
   "source": [
    "#applying KNeighborsRegressor to train the dataset\n",
    "\n",
    "model_score = {}\n",
    "knn = KNeighborsRegressor(n_neighbors = 5)\n",
    "knn.fit(X_train,y_train)\n",
    "y_predict = knn.predict(X_test)\n",
    "model_score['KNeighborsRegressor'] = r2_score(y_test,y_predict)\n",
    "print('Train Score : {0} '.format(knn.score(X_train,y_train)))\n",
    "print('Test Score(r2 value) : {0}' .format(r2_score(y_test,y_predict)))\n",
    "\n",
    "\n"
   ]
  },
  {
   "cell_type": "markdown",
   "metadata": {},
   "source": [
    "### RANDOM FOREST DESICION TREES"
   ]
  },
  {
   "cell_type": "code",
   "execution_count": 42,
   "metadata": {},
   "outputs": [],
   "source": [
    "#importing RandomForestRegressor\n",
    "\n",
    "\n",
    "from sklearn.ensemble import RandomForestRegressor"
   ]
  },
  {
   "cell_type": "code",
   "execution_count": 43,
   "metadata": {},
   "outputs": [
    {
     "name": "stdout",
     "output_type": "stream",
     "text": [
      "Train Score : 0.9836880388028837 \n",
      "Test Score(r2 value) : 0.9127903930509378\n"
     ]
    }
   ],
   "source": [
    "#applying RandomForestRegressor to train the dataset\n",
    "\n",
    "randforest = RandomForestRegressor(n_estimators = 15)\n",
    "randforest.fit(X_train,y_train)\n",
    "y_predict = randforest.predict(X_test)\n",
    "model_score['RandomForestRegressor'] = r2_score(y_test,y_predict)\n",
    "print('Train Score : {0} '.format(randforest.score(X_train,y_train)))\n",
    "print('Test Score(r2 value) : {0}' .format(r2_score(y_test,y_predict)))"
   ]
  },
  {
   "cell_type": "markdown",
   "metadata": {},
   "source": [
    "### GRADIENT BOOSTED DECISION TREES"
   ]
  },
  {
   "cell_type": "code",
   "execution_count": 44,
   "metadata": {},
   "outputs": [],
   "source": [
    "#importing GradienBoostingRegressor\n",
    "\n",
    "from sklearn.ensemble import GradientBoostingRegressor"
   ]
  },
  {
   "cell_type": "code",
   "execution_count": 94,
   "metadata": {},
   "outputs": [
    {
     "name": "stdout",
     "output_type": "stream",
     "text": [
      "Train Score : 0.9801690344248241 \n",
      "Test Score(r2 value) : 0.927564594766212\n",
      "[2.68799646]\n"
     ]
    }
   ],
   "source": [
    "#applying GradientBoostingRegressor to train the dataset\n",
    "\n",
    "\n",
    "gradboost = GradientBoostingRegressor(learning_rate = 0.1,max_depth = 5,n_estimators = 200)\n",
    "gradboost.fit(X_train,y_train)\n",
    "y_predict = gradboost.predict(X_test)\n",
    "model_score['GradientBoostingRegressor'] = r2_score(y_test,y_predict)\n",
    "print('Train Score : {0} '.format(gradboost.score(X_train,y_train)))\n",
    "print('Test Score(r2 value) : {0}' .format(r2_score(y_test,y_predict)))\n",
    "sh = [[2016 , 0.3202,3 ,2,0, 15.0 ,  814.0 , 55.2, 4.0]]\n",
    "pr = gradboost.predict(sh)\n",
    "print(pr)"
   ]
  },
  {
   "cell_type": "markdown",
   "metadata": {},
   "source": [
    "### RIDGE REGRESSION"
   ]
  },
  {
   "cell_type": "code",
   "execution_count": 46,
   "metadata": {},
   "outputs": [],
   "source": [
    "#importing RidgeRegression\n",
    "\n",
    "from sklearn.linear_model import Ridge\n"
   ]
  },
  {
   "cell_type": "code",
   "execution_count": 47,
   "metadata": {},
   "outputs": [
    {
     "name": "stdout",
     "output_type": "stream",
     "text": [
      "Train Score : 0.6913357390894792 \n",
      "Test Score(r2 value) : 0.7055901945892742\n"
     ]
    }
   ],
   "source": [
    "#applying RidgeRegression to train the dataset\n",
    "\n",
    "ridge = Ridge(alpha = 10)\n",
    "ridge.fit(X_train,y_train)\n",
    "y_predict = ridge.predict(X_test)\n",
    "model_score['RidgeRegression'] = r2_score(y_test,y_predict)\n",
    "print('Train Score : {0} '.format(ridge.score(X_train,y_train)))\n",
    "print('Test Score(r2 value) : {0}' .format(r2_score(y_test,y_predict)))"
   ]
  },
  {
   "cell_type": "markdown",
   "metadata": {},
   "source": [
    "### POLYNOMIAL FEATURES WITH RIDGE REGRESSION"
   ]
  },
  {
   "cell_type": "code",
   "execution_count": 48,
   "metadata": {},
   "outputs": [],
   "source": [
    "#importing PolynomialFeatures\n",
    "\n",
    "from sklearn.preprocessing import PolynomialFeatures"
   ]
  },
  {
   "cell_type": "code",
   "execution_count": 49,
   "metadata": {},
   "outputs": [
    {
     "name": "stdout",
     "output_type": "stream",
     "text": [
      "Train Score : 0.8811762296645427 \n",
      "Test Score(r2 value) : 0.8750564690818557\n"
     ]
    },
    {
     "name": "stderr",
     "output_type": "stream",
     "text": [
      "c:\\users\\roshini\\appdata\\local\\programs\\python\\python37-32\\lib\\site-packages\\sklearn\\linear_model\\ridge.py:125: LinAlgWarning: Ill-conditioned matrix (rcond=5.61913e-23): result may not be accurate.\n",
      "  overwrite_a=True).T\n"
     ]
    }
   ],
   "source": [
    "#applying polynomial features with ridge regression to train the dataset\n",
    "\n",
    "poly = PolynomialFeatures(degree = 3)\n",
    "X_poly = poly.fit_transform(X)\n",
    "X_train_poly,X_test_poly,y_train_poly,y_test_poly = train_test_split(X_poly,y,random_state = 0)\n",
    "ridge = Ridge(alpha = 15)\n",
    "ridge.fit(X_train_poly,y_train_poly)\n",
    "y_predict = ridge.predict(X_test_poly)\n",
    "model_score['PolynomialWithRegression'] = r2_score(y_test_poly,y_predict)\n",
    "print('Train Score : {0} '.format(ridge.score(X_train_poly,y_train_poly)))\n",
    "print('Test Score(r2 value) : {0}' .format(r2_score(y_test_poly,y_predict)))"
   ]
  },
  {
   "cell_type": "markdown",
   "metadata": {},
   "source": [
    "# Error Metrices"
   ]
  },
  {
   "cell_type": "markdown",
   "metadata": {},
   "source": [
    "### r2_score is used to calculate the error metrix"
   ]
  },
  {
   "cell_type": "code",
   "execution_count": 50,
   "metadata": {},
   "outputs": [
    {
     "data": {
      "text/plain": [
       "{'KNeighborsRegressor': 0.8691696746458393,\n",
       " 'RandomForestRegressor': 0.9127903930509378,\n",
       " 'GradientBoostingRegressor': 0.9271517360819378,\n",
       " 'RidgeRegression': 0.7055901945892742,\n",
       " 'PolynomialWithRegression': 0.8750564690818557}"
      ]
     },
     "execution_count": 50,
     "metadata": {},
     "output_type": "execute_result"
    }
   ],
   "source": [
    "#the r2_score value calculated for the different models that are trained\n",
    "\n",
    "model_score"
   ]
  },
  {
   "cell_type": "code",
   "execution_count": 54,
   "metadata": {},
   "outputs": [
    {
     "name": "stdout",
     "output_type": "stream",
     "text": [
      "The BEST Model that fits the given dataset is the one which is trained using GradientBoostingRegressor\n"
     ]
    }
   ],
   "source": [
    "#choosing the best model for the given dataset based on the r2_score\n",
    "\n",
    "Best_Model = max(model_score, key=model_score.get)\n",
    "print('The BEST Model that fits the given dataset is the one which is trained using {0}'.format(Best_Model))"
   ]
  }
 ],
 "metadata": {
  "kernelspec": {
   "display_name": "Python 3",
   "language": "python",
   "name": "python3"
  },
  "language_info": {
   "codemirror_mode": {
    "name": "ipython",
    "version": 3
   },
   "file_extension": ".py",
   "mimetype": "text/x-python",
   "name": "python",
   "nbconvert_exporter": "python",
   "pygments_lexer": "ipython3",
   "version": "3.7.2"
  }
 },
 "nbformat": 4,
 "nbformat_minor": 2
}
